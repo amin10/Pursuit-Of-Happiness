{
 "metadata": {
  "name": "",
  "signature": "sha256:14166853710abe33f9657bd10616302976bdf1c862283d6b1154299829015757"
 },
 "nbformat": 3,
 "nbformat_minor": 0,
 "worksheets": [
  {
   "cells": [
    {
     "cell_type": "code",
     "collapsed": false,
     "input": [
      "from alchemyapi import AlchemyAPI\n",
      "import json\n",
      "from tweepy.streaming import StreamListener\n",
      "from tweepy import OAuthHandler\n",
      "import tweepy\n",
      "import MySQLdb\n",
      "import datetime\n",
      "\n",
      "import hp "
     ],
     "language": "python",
     "metadata": {},
     "outputs": [],
     "prompt_number": 1
    },
    {
     "cell_type": "code",
     "collapsed": false,
     "input": [
      "def run_sentiment(text):\n",
      "    #print text\n",
      "    return hp.hp_sentiment(text)"
     ],
     "language": "python",
     "metadata": {},
     "outputs": [],
     "prompt_number": 2
    },
    {
     "cell_type": "code",
     "collapsed": false,
     "input": [
      "def save_to_db(payload):\n",
      "    \n",
      "    with open('aws.txt','r') as f:\n",
      "        domain = f.readline().strip()\n",
      "        user = f.readline().strip()\n",
      "        pwd = f.readline().strip()\n",
      "        db = f.readline().strip()\n",
      "    \n",
      "    \n",
      "    # Open database connection\n",
      "    db = MySQLdb.connect(domain,user,pwd,db)\n",
      "    # prepare a cursor object using cursor() method\n",
      "    cursor = db.cursor()\n",
      "\n",
      "    # Prepare SQL query to INSERT a record into the database.\n",
      "    sql = \"INSERT INTO boston(LONGITUDE, LATITUDE, CREATED_AT, TWEET_ID, TEXT, SCORE) VALUES (\" + str(payload)[1:-1] + \")\" \n",
      "    print sql\n",
      "    try:\n",
      "       # Execute the SQL command\n",
      "       cursor.execute(sql)\n",
      "       # Commit your changes in the database\n",
      "       db.commit()\n",
      "    except:\n",
      "    # Rollback in case there is any error\n",
      "        db.rollback()\n",
      "        db.close()\n",
      "        return 1\n",
      "\n",
      "    # disconnect from server\n",
      "    db.close()"
     ],
     "language": "python",
     "metadata": {},
     "outputs": [],
     "prompt_number": 4
    },
    {
     "cell_type": "code",
     "collapsed": false,
     "input": [
      "def send_data(response):\n",
      "    query = []\n",
      "    try:\n",
      "        query.append(response.coordinates['coordinates'][0])\n",
      "        query.append(response.coordinates['coordinates'][1])\n",
      "        query.append(str(response.created_at))\n",
      "        query.append(response.id)\n",
      "        query.append(response.text)\n",
      "        query.append(run_sentiment(response.text))\n",
      "\n",
      "        payload = [str(x.encode('ascii', 'ignore')).replace(\"\\\"\",\"\\'\").replace('u\\'','').replace('None','0') if type(x) is unicode or type(x) is str else str(x).replace(\"\\\"\",\"\\'\").replace('u\\'','') for x in query ]\n",
      "        #payload = str(query)\n",
      "        #print payload\n",
      "        save_to_db(payload)\n",
      "        return \"good\"\n",
      "    except:\n",
      "        return \"error\"\n",
      "      #  pass\n",
      "    #error = save_to_db(payload)\n",
      "    #if error:\n",
      "    #    print payload"
     ],
     "language": "python",
     "metadata": {},
     "outputs": [],
     "prompt_number": 5
    },
    {
     "cell_type": "code",
     "collapsed": false,
     "input": [
      "#need to have a file keys.txt with the Twitter API keys/info\n",
      "consumer_key = ''\n",
      "consumer_secret = ''\n",
      "access_token = ''\n",
      "access_token_secret = ''\n",
      "\n",
      "with open('keys.txt','r') as f:\n",
      "    consumer_key = f.readline().strip()\n",
      "    consumer_secret = f.readline().strip()\n",
      "    access_token = f.readline().strip()\n",
      "    access_token_secret = f.readline().strip()\n",
      "\n",
      "auth = tweepy.OAuthHandler(consumer_key, consumer_secret)\n",
      "auth.set_access_token(access_token, access_token_secret)\n",
      "api = tweepy.API(auth)\n",
      "\n",
      "\n",
      "for tweet in tweepy.Cursor(api.search,q=\"\",count=2000, geocode=\"42.303772,-71.08507,5mi\").items():\n",
      "    print tweet.text\n",
      "    print send_data(tweet)"
     ],
     "language": "python",
     "metadata": {},
     "outputs": [
      {
       "output_type": "stream",
       "stream": "stdout",
       "text": [
        "Rawr @ DNA Lofts https://t.co/C7xR3HZDFw\n",
        "error"
       ]
      }
     ]
    },
    {
     "cell_type": "code",
     "collapsed": false,
     "input": [
      "print tweet.id"
     ],
     "language": "python",
     "metadata": {},
     "outputs": []
    },
    {
     "cell_type": "code",
     "collapsed": false,
     "input": [],
     "language": "python",
     "metadata": {},
     "outputs": []
    }
   ],
   "metadata": {}
  }
 ]
}