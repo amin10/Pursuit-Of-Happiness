{
 "metadata": {
  "name": "",
  "signature": "sha256:03c67a70a56a415a1dccbdb99a3feaeafd1d8d3cda19c1cb95192461583a653b"
 },
 "nbformat": 3,
 "nbformat_minor": 0,
 "worksheets": [
  {
   "cells": [
    {
     "cell_type": "code",
     "collapsed": false,
     "input": [
      "import MySQLdb\n",
      "from alchemyapi import AlchemyAPI\n",
      "#from hp import hp_sentiment\n",
      "import hp"
     ],
     "language": "python",
     "metadata": {},
     "outputs": [],
     "prompt_number": 1
    },
    {
     "cell_type": "code",
     "collapsed": false,
     "input": [
      "with open('aws.txt','r') as f:\n",
      "        domain = f.readline().strip()\n",
      "        user = f.readline().strip()\n",
      "        pwd = f.readline().strip()\n",
      "        db = f.readline().strip()    "
     ],
     "language": "python",
     "metadata": {},
     "outputs": []
    },
    {
     "cell_type": "code",
     "collapsed": false,
     "input": [
      "db = MySQLdb.connect(domain,user,pwd,db)cur= db.cursor()\n",
      "#sql = \"SELECT score FROM boston  WHERE( score = 1 )\"\n",
      "#sql = \"UPDATE boston SET score = 0 WHERE score = 1\"\n",
      "#cur.execute(sql)\n",
      "sql = \"SELECT * FROM boston WHERE score = 1\"\n",
      "print \"number of tweets: \", cur.execute(sql)\n",
      "search = []\n",
      "for x in cur.fetchall():\n",
      "    search.append(x)\n",
      "db.close()"
     ],
     "language": "python",
     "metadata": {},
     "outputs": [
      {
       "output_type": "stream",
       "stream": "stdout",
       "text": [
        "number of tweets:  "
       ]
      },
      {
       "output_type": "stream",
       "stream": "stdout",
       "text": [
        "7796\n"
       ]
      }
     ],
     "prompt_number": 2
    },
    {
     "cell_type": "code",
     "collapsed": false,
     "input": [
      "print search[0]"
     ],
     "language": "python",
     "metadata": {},
     "outputs": [
      {
       "output_type": "stream",
       "stream": "stdout",
       "text": [
        "(Decimal('-79.79470000'), 36.06900024, datetime.datetime(2015, 6, 6, 23, 43, 23), Decimal('607331984977727489'), \"'Uncle Drew' appeared on Friday 5 at the 16th place in the Top20 of Greensboro's Trends: http://t.co/1Pta8mfSrF #trndnl\", Decimal('1.0000'))\n"
       ]
      }
     ],
     "prompt_number": 3
    },
    {
     "cell_type": "code",
     "collapsed": false,
     "input": [
      "def do_analysis(text):\n",
      "    return 0"
     ],
     "language": "python",
     "metadata": {},
     "outputs": [],
     "prompt_number": 4
    },
    {
     "cell_type": "code",
     "collapsed": false,
     "input": [
      "score_values = []\n",
      "n = 0\n",
      "for x in search:\n",
      "    #score_values.append([x[3], hp.hp_sentiment(x[4])])"
     ],
     "language": "python",
     "metadata": {},
     "outputs": [],
     "prompt_number": 15
    },
    {
     "cell_type": "code",
     "collapsed": false,
     "input": [
      "print (score_values)"
     ],
     "language": "python",
     "metadata": {},
     "outputs": [
      {
       "ename": "NameError",
       "evalue": "name 'score_values' is not defined",
       "output_type": "pyerr",
       "traceback": [
        "\u001b[1;31m---------------------------------------------------------------------------\u001b[0m\n\u001b[1;31mNameError\u001b[0m                                 Traceback (most recent call last)",
        "\u001b[1;32m<ipython-input-104-f40b42bc90ab>\u001b[0m in \u001b[0;36m<module>\u001b[1;34m()\u001b[0m\n\u001b[1;32m----> 1\u001b[1;33m \u001b[1;32mprint\u001b[0m \u001b[1;33m(\u001b[0m\u001b[0mscore_values\u001b[0m\u001b[1;33m)\u001b[0m\u001b[1;33m\u001b[0m\u001b[0m\n\u001b[0m",
        "\u001b[1;31mNameError\u001b[0m: name 'score_values' is not defined"
       ]
      }
     ],
     "prompt_number": 104
    },
    {
     "cell_type": "code",
     "collapsed": false,
     "input": [
      "y =0\n",
      "for x in score_values:\n",
      "    if x[1] is not 1:\n",
      "        #print x\n",
      "        y += 1\n",
      "print (len(score_values) -y )/float(len(score_values))"
     ],
     "language": "python",
     "metadata": {},
     "outputs": [
      {
       "output_type": "stream",
       "stream": "stdout",
       "text": [
        "0.705874807594\n"
       ]
      }
     ],
     "prompt_number": 21
    },
    {
     "cell_type": "code",
     "collapsed": false,
     "input": [
      "import csv"
     ],
     "language": "python",
     "metadata": {},
     "outputs": [],
     "prompt_number": 2
    },
    {
     "cell_type": "code",
     "collapsed": false,
     "input": [
      "import pandas as pd"
     ],
     "language": "python",
     "metadata": {},
     "outputs": [],
     "prompt_number": 3
    },
    {
     "cell_type": "code",
     "collapsed": false,
     "input": [
      "df = pd.DataFrame.from_csv(\"hp_sentiments.csv\")"
     ],
     "language": "python",
     "metadata": {},
     "outputs": [],
     "prompt_number": 4
    },
    {
     "cell_type": "code",
     "collapsed": false,
     "input": [
      "df = pd.DataFrame(score_values)#.to_csv(\"hp_sentiments.csv\")"
     ],
     "language": "python",
     "metadata": {},
     "outputs": [
      {
       "ename": "NameError",
       "evalue": "name 'score_values' is not defined",
       "output_type": "pyerr",
       "traceback": [
        "\u001b[1;31m---------------------------------------------------------------------------\u001b[0m\n\u001b[1;31mNameError\u001b[0m                                 Traceback (most recent call last)",
        "\u001b[1;32m<ipython-input-52-d45b933b54d6>\u001b[0m in \u001b[0;36m<module>\u001b[1;34m()\u001b[0m\n\u001b[1;32m----> 1\u001b[1;33m \u001b[0mdf\u001b[0m \u001b[1;33m=\u001b[0m \u001b[0mpd\u001b[0m\u001b[1;33m.\u001b[0m\u001b[0mDataFrame\u001b[0m\u001b[1;33m(\u001b[0m\u001b[0mscore_values\u001b[0m\u001b[1;33m)\u001b[0m\u001b[1;31m#.to_csv(\"hp_sentiments.csv\")\u001b[0m\u001b[1;33m\u001b[0m\u001b[0m\n\u001b[0m",
        "\u001b[1;31mNameError\u001b[0m: name 'score_values' is not defined"
       ]
      }
     ],
     "prompt_number": 52
    },
    {
     "cell_type": "code",
     "collapsed": false,
     "input": [
      "df = df[df[1] != 1]"
     ],
     "language": "python",
     "metadata": {},
     "outputs": [
      {
       "ename": "NameError",
       "evalue": "name 'df' is not defined",
       "output_type": "pyerr",
       "traceback": [
        "\u001b[1;31m---------------------------------------------------------------------------\u001b[0m\n\u001b[1;31mNameError\u001b[0m                                 Traceback (most recent call last)",
        "\u001b[1;32m<ipython-input-1-644ffce06907>\u001b[0m in \u001b[0;36m<module>\u001b[1;34m()\u001b[0m\n\u001b[1;32m----> 1\u001b[1;33m \u001b[0mdf\u001b[0m \u001b[1;33m=\u001b[0m \u001b[0mdf\u001b[0m\u001b[1;33m[\u001b[0m\u001b[0mdf\u001b[0m\u001b[1;33m[\u001b[0m\u001b[1;36m1\u001b[0m\u001b[1;33m]\u001b[0m \u001b[1;33m!=\u001b[0m \u001b[1;36m1\u001b[0m\u001b[1;33m]\u001b[0m\u001b[1;33m\u001b[0m\u001b[0m\n\u001b[0m",
        "\u001b[1;31mNameError\u001b[0m: name 'df' is not defined"
       ]
      }
     ],
     "prompt_number": 1
    },
    {
     "cell_type": "code",
     "collapsed": false,
     "input": [
      "print df.info()"
     ],
     "language": "python",
     "metadata": {},
     "outputs": [
      {
       "output_type": "stream",
       "stream": "stdout",
       "text": [
        "<class 'pandas.core.frame.DataFrame'>\n",
        "Int64Index: 2293 entries, 8 to 7793\n",
        "Data columns (total 2 columns):\n",
        "0    2293 non-null int64\n",
        "1    2293 non-null float64\n",
        "dtypes: float64(1), int64(1)None\n"
       ]
      }
     ],
     "prompt_number": 8
    },
    {
     "cell_type": "code",
     "collapsed": false,
     "input": [
      "df.to_csv(\"hp_sentiments.csv\")"
     ],
     "language": "python",
     "metadata": {},
     "outputs": [],
     "prompt_number": 34
    },
    {
     "cell_type": "code",
     "collapsed": false,
     "input": [
      "print x[3], x[4]"
     ],
     "language": "python",
     "metadata": {},
     "outputs": [
      {
       "output_type": "stream",
       "stream": "stdout",
       "text": [
        "607331987284566016 I've got my reasons\n"
       ]
      }
     ],
     "prompt_number": 7
    },
    {
     "cell_type": "code",
     "collapsed": false,
     "input": [
      "print df"
     ],
     "language": "python",
     "metadata": {},
     "outputs": [
      {
       "ename": "NameError",
       "evalue": "name 'df' is not defined",
       "output_type": "pyerr",
       "traceback": [
        "\u001b[1;31m---------------------------------------------------------------------------\u001b[0m\n\u001b[1;31mNameError\u001b[0m                                 Traceback (most recent call last)",
        "\u001b[1;32m<ipython-input-2-92bd72eb040a>\u001b[0m in \u001b[0;36m<module>\u001b[1;34m()\u001b[0m\n\u001b[1;32m----> 1\u001b[1;33m \u001b[1;32mprint\u001b[0m \u001b[0mdf\u001b[0m\u001b[1;33m\u001b[0m\u001b[0m\n\u001b[0m",
        "\u001b[1;31mNameError\u001b[0m: name 'df' is not defined"
       ]
      }
     ],
     "prompt_number": 2
    },
    {
     "cell_type": "code",
     "collapsed": false,
     "input": [
      "db = MySQLdb.connect(domain,user,pwd,db)cur= db.cursor()\n",
      "sql = \"SELECT * FROM boston WHERE tweet_id= 607332003910926336\"\n",
      "cur.execute(sql)\n",
      "print cur.fetchone()\n",
      "db.close()\n"
     ],
     "language": "python",
     "metadata": {},
     "outputs": [
      {
       "ename": "NameError",
       "evalue": "name 'MySQLdb' is not defined",
       "output_type": "pyerr",
       "traceback": [
        "\u001b[1;31m---------------------------------------------------------------------------\u001b[0m\n\u001b[1;31mNameError\u001b[0m                                 Traceback (most recent call last)",
        "\u001b[1;32m<ipython-input-3-758f577203b6>\u001b[0m in \u001b[0;36m<module>\u001b[1;34m()\u001b[0m\n\u001b[1;32m----> 1\u001b[1;33m \u001b[0mdb\u001b[0m \u001b[1;33m=\u001b[0m \u001b[0mMySQLdb\u001b[0m\u001b[1;33m.\u001b[0m\u001b[0mconnect\u001b[0m\u001b[1;33m(\u001b[0m\u001b[1;34m\"pursuit-of-happiness.cwouww8djnhv.us-west-2.rds.amazonaws.com\"\u001b[0m\u001b[1;33m,\u001b[0m\u001b[1;34m\"root\"\u001b[0m\u001b[1;33m,\u001b[0m\u001b[1;34m\"h4ppiest\"\u001b[0m\u001b[1;33m,\u001b[0m \u001b[1;34m\"pursuit_of_happiness\"\u001b[0m \u001b[1;33m)\u001b[0m\u001b[1;33m\u001b[0m\u001b[0m\n\u001b[0m\u001b[0;32m      2\u001b[0m \u001b[0mcur\u001b[0m\u001b[1;33m=\u001b[0m \u001b[0mdb\u001b[0m\u001b[1;33m.\u001b[0m\u001b[0mcursor\u001b[0m\u001b[1;33m(\u001b[0m\u001b[1;33m)\u001b[0m\u001b[1;33m\u001b[0m\u001b[0m\n\u001b[0;32m      3\u001b[0m \u001b[0msql\u001b[0m \u001b[1;33m=\u001b[0m \u001b[1;34m\"SELECT * FROM boston WHERE tweet_id= 607332003910926336\"\u001b[0m\u001b[1;33m\u001b[0m\u001b[0m\n\u001b[0;32m      4\u001b[0m \u001b[0mcur\u001b[0m\u001b[1;33m.\u001b[0m\u001b[0mexecute\u001b[0m\u001b[1;33m(\u001b[0m\u001b[0msql\u001b[0m\u001b[1;33m)\u001b[0m\u001b[1;33m\u001b[0m\u001b[0m\n\u001b[0;32m      5\u001b[0m \u001b[1;32mprint\u001b[0m \u001b[0mcur\u001b[0m\u001b[1;33m.\u001b[0m\u001b[0mfetchone\u001b[0m\u001b[1;33m(\u001b[0m\u001b[1;33m)\u001b[0m\u001b[1;33m\u001b[0m\u001b[0m\n",
        "\u001b[1;31mNameError\u001b[0m: name 'MySQLdb' is not defined"
       ]
      }
     ],
     "prompt_number": 3
    },
    {
     "cell_type": "code",
     "collapsed": false,
     "input": [
      "    print df['1']"
     ],
     "language": "python",
     "metadata": {},
     "outputs": [
      {
       "output_type": "stream",
       "stream": "stdout",
       "text": [
        "8     1.009281\n",
        "10    1.340519\n",
        "14    1.747558\n",
        "16    1.611868\n",
        "19    1.689973\n",
        "23    1.644523\n",
        "25    1.519570\n",
        "33    0.562745\n",
        "36    1.321428\n",
        "43    1.545437\n",
        "50    1.668243\n",
        "53    1.250234\n",
        "62    1.747988\n",
        "66    0.608079\n",
        "68    0.650320\n",
        "...\n",
        "7696    1.882548\n",
        "7706    1.569969\n",
        "7707    1.360041\n",
        "7709    0.622673\n",
        "7722    1.758158\n",
        "7736    1.644523\n",
        "7738    1.325209\n",
        "7758    1.561377\n",
        "7760    1.613823\n",
        "7764    1.803859\n",
        "7765    0.761080\n",
        "7778    0.608079\n",
        "7780    0.608079\n",
        "7791    1.724059\n",
        "7793    1.250234\n",
        "Name: 1, Length: 2293, dtype: float64\n"
       ]
      }
     ],
     "prompt_number": 9
    },
    {
     "cell_type": "code",
     "collapsed": false,
     "input": [
      "lister = []\n",
      "#sql = \"SELECT * FROM boston\"# WHERE score = 1\"\n",
      "for row in df.iterrows():\n",
      "    db = MySQLdb.connect(domain,user,pwd,db)    cur= db.cursor()\n",
      "    sql = \"SELECT latitude,longitude FROM boston WHERE tweet_id= \" + str(int(row[1][0]))\n",
      "    cur.execute(sql)\n",
      "    x = cur.fetchone()\n",
      "    try:\n",
      "        lister.append([x])\n",
      "    except:\n",
      "        pass\n",
      "    db.close()"
     ],
     "language": "python",
     "metadata": {},
     "outputs": [],
     "prompt_number": 86
    },
    {
     "cell_type": "code",
     "collapsed": false,
     "input": [
      "print lister"
     ],
     "language": "python",
     "metadata": {},
     "outputs": [
      {
       "output_type": "stream",
       "stream": "stdout",
       "text": [
        "[]\n"
       ]
      }
     ],
     "prompt_number": 85
    },
    {
     "cell_type": "code",
     "collapsed": false,
     "input": [
      "df = pd.DataFrame.from_csv(\"big.csv\", index_col=[3])# -71.193173,42.274069,-70.925261,42.445056"
     ],
     "language": "python",
     "metadata": {},
     "outputs": [],
     "prompt_number": 4
    },
    {
     "cell_type": "code",
     "collapsed": false,
     "input": [
      "print df.info()"
     ],
     "language": "python",
     "metadata": {},
     "outputs": [
      {
       "output_type": "stream",
       "stream": "stdout",
       "text": [
        "<class 'pandas.core.frame.DataFrame'>\n",
        "Int64Index: 2023 entries, 606608046983401472 to 607519258390765569\n",
        "Data columns (total 5 columns):\n",
        "longitude     2023 non-null float64\n",
        "latitude      2023 non-null float64\n",
        "created_at    2023 non-null object\n",
        "text          2023 non-null object\n",
        "score         2023 non-null float64\n",
        "dtypes: float64(3), object(2)None\n"
       ]
      }
     ],
     "prompt_number": 5
    },
    {
     "cell_type": "code",
     "collapsed": false,
     "input": [
      "#refilter by long/lat to get Boston Proper tweets instead of greater boston area\n",
      "#we did this because we needed more dense data\n",
      "lf = df[df['longitude'] > -71.193173]\n",
      "lf = lf[lf['longitude'] < -70.925261]\n",
      "lf = lf[lf['latitude'] > 42.333069]\n",
      "lf = lf[lf['latitude'] < 42.445056]"
     ],
     "language": "python",
     "metadata": {},
     "outputs": [],
     "prompt_number": 13
    },
    {
     "cell_type": "code",
     "collapsed": false,
     "input": [
      "print lf.info()"
     ],
     "language": "python",
     "metadata": {},
     "outputs": [
      {
       "output_type": "stream",
       "stream": "stdout",
       "text": [
        "<class 'pandas.core.frame.DataFrame'>\n",
        "Int64Index: 1236 entries, 606608046983401472 to 607518594394673152\n",
        "Data columns (total 5 columns):\n",
        "longitude     1236 non-null float64\n",
        "latitude      1236 non-null float64\n",
        "created_at    1236 non-null object\n",
        "text          1236 non-null object\n",
        "score         1236 non-null float64\n",
        "dtypes: float64(3), object(2)None\n"
       ]
      }
     ],
     "prompt_number": 14
    },
    {
     "cell_type": "code",
     "collapsed": false,
     "input": [
      "lf.to_csv(\"large_set.csv\")"
     ],
     "language": "python",
     "metadata": {},
     "outputs": [],
     "prompt_number": 15
    }
   ],
   "metadata": {}
  }
 ]
}